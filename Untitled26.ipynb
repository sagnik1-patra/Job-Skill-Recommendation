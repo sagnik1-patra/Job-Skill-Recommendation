{
 "cells": [
  {
   "cell_type": "code",
   "execution_count": 1,
   "id": "a7f0779d-eb7e-475e-b583-97a21ee3db8c",
   "metadata": {},
   "outputs": [
    {
     "name": "stdout",
     "output_type": "stream",
     "text": [
      "WARNING:tensorflow:From C:\\Users\\NXTWAVE\\AppData\\Local\\Programs\\Python\\Python311\\Lib\\site-packages\\keras\\src\\losses.py:2976: The name tf.losses.sparse_softmax_cross_entropy is deprecated. Please use tf.compat.v1.losses.sparse_softmax_cross_entropy instead.\n",
      "\n",
      "WARNING:tensorflow:From C:\\Users\\NXTWAVE\\AppData\\Local\\Programs\\Python\\Python311\\Lib\\site-packages\\keras\\src\\backend.py:1398: The name tf.executing_eagerly_outside_functions is deprecated. Please use tf.compat.v1.executing_eagerly_outside_functions instead.\n",
      "\n",
      "WARNING:tensorflow:From C:\\Users\\NXTWAVE\\AppData\\Local\\Programs\\Python\\Python311\\Lib\\site-packages\\keras\\src\\optimizers\\__init__.py:309: The name tf.train.Optimizer is deprecated. Please use tf.compat.v1.train.Optimizer instead.\n",
      "\n"
     ]
    },
    {
     "name": "stderr",
     "output_type": "stream",
     "text": [
      "[nltk_data] Downloading package stopwords to\n",
      "[nltk_data]     C:\\Users\\NXTWAVE\\AppData\\Roaming\\nltk_data...\n",
      "[nltk_data]   Package stopwords is already up-to-date!\n",
      "[nltk_data] Downloading package wordnet to\n",
      "[nltk_data]     C:\\Users\\NXTWAVE\\AppData\\Roaming\\nltk_data...\n",
      "[nltk_data]   Package wordnet is already up-to-date!\n"
     ]
    },
    {
     "name": "stdout",
     "output_type": "stream",
     "text": [
      "1/1 [==============================] - 0s 125ms/step\n",
      "User Current Skills: ['python', 'data analysis']\n",
      "Target Job Title: Data Scientist\n",
      "Target Industry: IT\n",
      "Recommended Skills: [\"'communication'\"]\n"
     ]
    }
   ],
   "source": [
    "# SkillLink - Prediction & Result\n",
    "import os\n",
    "import pickle\n",
    "import pandas as pd\n",
    "import numpy as np\n",
    "from sklearn.feature_extraction.text import TfidfVectorizer\n",
    "from sklearn.preprocessing import MultiLabelBinarizer\n",
    "from tensorflow.keras.models import load_model\n",
    "\n",
    "# -----------------------------\n",
    "# Paths\n",
    "# -----------------------------\n",
    "output_dir = r\"C:\\Users\\NXTWAVE\\Downloads\\Job Skill Recommendation\"\n",
    "tfidf_path = os.path.join(output_dir, 'tfidf_vectorizer.pkl')\n",
    "mlb_path = os.path.join(output_dir, 'mlb.pkl')\n",
    "model_path = os.path.join(output_dir, 'skill_model.keras')  # native Keras model\n",
    "\n",
    "# -----------------------------\n",
    "# Load Models & Artifacts\n",
    "# -----------------------------\n",
    "with open(tfidf_path, 'rb') as f:\n",
    "    tfidf = pickle.load(f)\n",
    "\n",
    "with open(mlb_path, 'rb') as f:\n",
    "    mlb = pickle.load(f)\n",
    "\n",
    "model = load_model(model_path)\n",
    "\n",
    "# -----------------------------\n",
    "# Preprocessing Function\n",
    "# -----------------------------\n",
    "import re\n",
    "import nltk\n",
    "from nltk.corpus import stopwords\n",
    "from nltk.stem import WordNetLemmatizer\n",
    "\n",
    "nltk.download('stopwords')\n",
    "nltk.download('wordnet')\n",
    "\n",
    "stop_words = set(stopwords.words('english'))\n",
    "lemmatizer = WordNetLemmatizer()\n",
    "\n",
    "def preprocess_text(text):\n",
    "    if pd.isna(text):\n",
    "        text = \"\"\n",
    "    text = text.lower()\n",
    "    text = re.sub(r\"[^a-zA-Z0-9\\s]\", \"\", text)\n",
    "    tokens = text.split()\n",
    "    tokens = [lemmatizer.lemmatize(t) for t in tokens if t not in stop_words]\n",
    "    return \" \".join(tokens)\n",
    "\n",
    "# -----------------------------\n",
    "# Content-Based Recommendation Function\n",
    "# -----------------------------\n",
    "def recommend_skills(user_skills, job_title=\"\", industry=\"\", top_n=10):\n",
    "    # Combine user info into one string\n",
    "    user_text = \" \".join(user_skills)\n",
    "    if job_title:\n",
    "        user_text += \" \" + job_title\n",
    "    if industry:\n",
    "        user_text += \" \" + industry\n",
    "    # Preprocess & transform\n",
    "    user_vec = tfidf.transform([preprocess_text(user_text)])\n",
    "    # Predict skill probabilities\n",
    "    y_pred_prob = model.predict(user_vec.toarray())\n",
    "    y_pred = (y_pred_prob > 0.5).astype(int)\n",
    "    recommended_skills = mlb.inverse_transform(y_pred)\n",
    "    # Flatten and return top N skills\n",
    "    recommended_skills_flat = [s for sublist in recommended_skills for s in sublist]\n",
    "    return recommended_skills_flat[:top_n]\n",
    "\n",
    "# -----------------------------\n",
    "# Example Prediction\n",
    "# -----------------------------\n",
    "user_skills_input = ['python', 'data analysis']\n",
    "job_title_input = 'Data Scientist'\n",
    "industry_input = 'IT'\n",
    "\n",
    "recommended_skills = recommend_skills(user_skills_input, job_title_input, industry_input, top_n=10)\n",
    "\n",
    "# -----------------------------\n",
    "# Display Result\n",
    "# -----------------------------\n",
    "print(\"User Current Skills:\", user_skills_input)\n",
    "print(\"Target Job Title:\", job_title_input)\n",
    "print(\"Target Industry:\", industry_input)\n",
    "print(\"Recommended Skills:\", recommended_skills)\n"
   ]
  },
  {
   "cell_type": "code",
   "execution_count": null,
   "id": "ca527a60-1741-4250-be22-6c02ec82ca1e",
   "metadata": {},
   "outputs": [],
   "source": []
  }
 ],
 "metadata": {
  "kernelspec": {
   "display_name": "Python 3 (ipykernel)",
   "language": "python",
   "name": "python3"
  },
  "language_info": {
   "codemirror_mode": {
    "name": "ipython",
    "version": 3
   },
   "file_extension": ".py",
   "mimetype": "text/x-python",
   "name": "python",
   "nbconvert_exporter": "python",
   "pygments_lexer": "ipython3",
   "version": "3.11.9"
  }
 },
 "nbformat": 4,
 "nbformat_minor": 5
}
